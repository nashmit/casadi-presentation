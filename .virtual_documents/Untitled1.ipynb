get_ipython().run_line_magic("config", " Completer.use_jedi = False")


import casadi as ca


x = ca.SX.sym('x');


y = 3 * x;


print(y)


type(x)


import math


math.cos(4)


import random


print()
