{
 "cells": [
  {
   "cell_type": "code",
   "execution_count": 12,
   "id": "4d25b376-c91b-4f8d-9d6a-0f7a71e70c79",
   "metadata": {},
   "outputs": [],
   "source": [
    "%config Completer.use_jedi = False"
   ]
  },
  {
   "cell_type": "code",
   "execution_count": 1,
   "id": "458bedd4-0ac9-4a08-ab0f-4f5158656435",
   "metadata": {},
   "outputs": [],
   "source": [
    "import casadi as ca"
   ]
  },
  {
   "cell_type": "code",
   "execution_count": 2,
   "id": "7415b761-4504-4841-ab16-7ce287a14a75",
   "metadata": {},
   "outputs": [],
   "source": [
    "x = ca.SX.sym('x');"
   ]
  },
  {
   "cell_type": "code",
   "execution_count": 3,
   "id": "667af870-87b4-478f-a130-2a6bd6079eb5",
   "metadata": {},
   "outputs": [],
   "source": [
    "y = 3 * x;"
   ]
  },
  {
   "cell_type": "code",
   "execution_count": 4,
   "id": "8c0c8146-63e4-4cc1-bf02-625a07e318aa",
   "metadata": {},
   "outputs": [
    {
     "name": "stdout",
     "output_type": "stream",
     "text": [
      "(3*x)\n"
     ]
    }
   ],
   "source": [
    "print(y)"
   ]
  },
  {
   "cell_type": "code",
   "execution_count": 5,
   "id": "64ee63c0-c76b-4cf0-8bee-d06b7a31dcfe",
   "metadata": {},
   "outputs": [
    {
     "data": {
      "text/plain": [
       "casadi.casadi.SX"
      ]
     },
     "execution_count": 5,
     "metadata": {},
     "output_type": "execute_result"
    }
   ],
   "source": [
    "type(x)"
   ]
  },
  {
   "cell_type": "code",
   "execution_count": 6,
   "id": "de6682e3-631b-4b4b-bdb7-ba5656b0d5dd",
   "metadata": {},
   "outputs": [],
   "source": [
    "import math"
   ]
  },
  {
   "cell_type": "code",
   "execution_count": 7,
   "id": "ee2f3670-42f0-49dc-9c8a-57e925b1497d",
   "metadata": {},
   "outputs": [
    {
     "data": {
      "text/plain": [
       "-0.6536436208636119"
      ]
     },
     "execution_count": 7,
     "metadata": {},
     "output_type": "execute_result"
    }
   ],
   "source": [
    "math.cos(4)"
   ]
  },
  {
   "cell_type": "code",
   "execution_count": 8,
   "id": "9d9ec114-563a-43d1-9521-5fa6af5d22db",
   "metadata": {},
   "outputs": [],
   "source": [
    "import random"
   ]
  },
  {
   "cell_type": "code",
   "execution_count": 9,
   "id": "93359a19-a03f-4948-9b0e-2f733bd4504a",
   "metadata": {},
   "outputs": [],
   "source": [
    "import casadi"
   ]
  },
  {
   "cell_type": "code",
   "execution_count": 10,
   "id": "ab24186d-d6ff-44cc-9303-307fcec62e84",
   "metadata": {},
   "outputs": [
    {
     "data": {
      "text/plain": [
       "<function casadi.casadi.acosh(*args) -> 'double'>"
      ]
     },
     "execution_count": 10,
     "metadata": {},
     "output_type": "execute_result"
    }
   ],
   "source": [
    "casadi.acosh"
   ]
  },
  {
   "cell_type": "code",
   "execution_count": 13,
   "id": "6a1526b8-c33e-47d4-967d-214ca8d7c15a",
   "metadata": {},
   "outputs": [
    {
     "data": {
      "text/plain": [
       "nan"
      ]
     },
     "execution_count": 13,
     "metadata": {},
     "output_type": "execute_result"
    }
   ],
   "source": [
    "casadi.acos(3)"
   ]
  },
  {
   "cell_type": "code",
   "execution_count": null,
   "id": "6ed6d781-67d8-4a5e-80c8-11d4ba756e17",
   "metadata": {},
   "outputs": [],
   "source": []
  }
 ],
 "metadata": {
  "kernelspec": {
   "display_name": "Python 3 (ipykernel)",
   "language": "python",
   "name": "python3"
  },
  "language_info": {
   "codemirror_mode": {
    "name": "ipython",
    "version": 3
   },
   "file_extension": ".py",
   "mimetype": "text/x-python",
   "name": "python",
   "nbconvert_exporter": "python",
   "pygments_lexer": "ipython3",
   "version": "3.13.0"
  }
 },
 "nbformat": 4,
 "nbformat_minor": 5
}
